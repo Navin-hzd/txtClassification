{
 "cells": [
  {
   "cell_type": "markdown",
   "metadata": {},
   "source": [
    "Multi-class Classification on Consumer Complaints of Financial Instituation\n"
   ]
  },
  {
   "cell_type": "code",
   "execution_count": 2,
   "metadata": {},
   "outputs": [],
   "source": [
    "import os\n",
    "# print(os.listdir(\"C://Users//navin//Dropbox//Ryerson University//CIND 820//complaints\"))\n",
    "\n",
    "import pandas as pd\n",
    "import numpy as np\n",
    "import zipfile\n",
    "from scipy.stats import randint\n",
    "import seaborn as sns # used for plot interactive graph. \n",
    "import matplotlib.pyplot as plt\n",
    "import seaborn as sns\n",
    "from io import StringIO\n",
    "\n",
    "\n",
    "from IPython.display import display\n",
    "\n",
    "#import warnings"
   ]
  },
  {
   "cell_type": "code",
   "execution_count": 3,
   "metadata": {},
   "outputs": [
    {
     "data": {
      "text/plain": [
       "(1757764, 18)"
      ]
     },
     "execution_count": 3,
     "metadata": {},
     "output_type": "execute_result"
    }
   ],
   "source": [
    "df = pd.read_csv('complaints.csv')\n",
    "\n",
    "df.shape "
   ]
  },
  {
   "cell_type": "code",
   "execution_count": 4,
   "metadata": {},
   "outputs": [
    {
     "data": {
      "text/html": [
       "<div>\n",
       "<style scoped>\n",
       "    .dataframe tbody tr th:only-of-type {\n",
       "        vertical-align: middle;\n",
       "    }\n",
       "\n",
       "    .dataframe tbody tr th {\n",
       "        vertical-align: top;\n",
       "    }\n",
       "\n",
       "    .dataframe thead th {\n",
       "        text-align: right;\n",
       "    }\n",
       "</style>\n",
       "<table border=\"1\" class=\"dataframe\">\n",
       "  <thead>\n",
       "    <tr style=\"text-align: right;\">\n",
       "      <th></th>\n",
       "      <th>0</th>\n",
       "      <th>1</th>\n",
       "      <th>2</th>\n",
       "      <th>3</th>\n",
       "      <th>4</th>\n",
       "      <th>5</th>\n",
       "      <th>6</th>\n",
       "      <th>7</th>\n",
       "      <th>8</th>\n",
       "      <th>9</th>\n",
       "    </tr>\n",
       "  </thead>\n",
       "  <tbody>\n",
       "    <tr>\n",
       "      <th>Date received</th>\n",
       "      <td>2019-05-28</td>\n",
       "      <td>2019-09-24</td>\n",
       "      <td>2019-09-19</td>\n",
       "      <td>2019-11-08</td>\n",
       "      <td>2019-05-03</td>\n",
       "      <td>2015-08-01</td>\n",
       "      <td>2019-07-26</td>\n",
       "      <td>2019-07-08</td>\n",
       "      <td>2019-10-24</td>\n",
       "      <td>2019-11-20</td>\n",
       "    </tr>\n",
       "    <tr>\n",
       "      <th>Product</th>\n",
       "      <td>Credit reporting, credit repair services, or o...</td>\n",
       "      <td>Debt collection</td>\n",
       "      <td>Credit reporting, credit repair services, or o...</td>\n",
       "      <td>Debt collection</td>\n",
       "      <td>Credit reporting, credit repair services, or o...</td>\n",
       "      <td>Debt collection</td>\n",
       "      <td>Credit reporting, credit repair services, or o...</td>\n",
       "      <td>Credit reporting, credit repair services, or o...</td>\n",
       "      <td>Credit reporting, credit repair services, or o...</td>\n",
       "      <td>Credit card or prepaid card</td>\n",
       "    </tr>\n",
       "    <tr>\n",
       "      <th>Sub-product</th>\n",
       "      <td>Credit reporting</td>\n",
       "      <td>I do not know</td>\n",
       "      <td>Credit reporting</td>\n",
       "      <td>I do not know</td>\n",
       "      <td>Credit reporting</td>\n",
       "      <td>Payday loan</td>\n",
       "      <td>Credit reporting</td>\n",
       "      <td>Credit reporting</td>\n",
       "      <td>Credit reporting</td>\n",
       "      <td>General-purpose credit card or charge card</td>\n",
       "    </tr>\n",
       "    <tr>\n",
       "      <th>Issue</th>\n",
       "      <td>Problem with a credit reporting company's inve...</td>\n",
       "      <td>Attempts to collect debt not owed</td>\n",
       "      <td>Incorrect information on your report</td>\n",
       "      <td>Communication tactics</td>\n",
       "      <td>Incorrect information on your report</td>\n",
       "      <td>Taking/threatening an illegal action</td>\n",
       "      <td>Problem with a credit reporting company's inve...</td>\n",
       "      <td>Problem with a credit reporting company's inve...</td>\n",
       "      <td>Incorrect information on your report</td>\n",
       "      <td>Closing your account</td>\n",
       "    </tr>\n",
       "    <tr>\n",
       "      <th>Sub-issue</th>\n",
       "      <td>Their investigation did not fix an error on yo...</td>\n",
       "      <td>Debt is not yours</td>\n",
       "      <td>Information belongs to someone else</td>\n",
       "      <td>Frequent or repeated calls</td>\n",
       "      <td>Account information incorrect</td>\n",
       "      <td>Sued w/o proper notification of suit</td>\n",
       "      <td>Their investigation did not fix an error on yo...</td>\n",
       "      <td>Their investigation did not fix an error on yo...</td>\n",
       "      <td>Information belongs to someone else</td>\n",
       "      <td>Company closed your account</td>\n",
       "    </tr>\n",
       "    <tr>\n",
       "      <th>Consumer complaint narrative</th>\n",
       "      <td>Although I am checking for and addressing miss...</td>\n",
       "      <td>transworld systems inc. \\nis trying to collect...</td>\n",
       "      <td>NaN</td>\n",
       "      <td>Over the past 2 weeks, I have been receiving e...</td>\n",
       "      <td>NaN</td>\n",
       "      <td>Quickclickloans.com hired an attorney XXXX XXX...</td>\n",
       "      <td>Previously, on XX/XX/XXXX, XX/XX/XXXX, and XX/...</td>\n",
       "      <td>Hello This complaint is against the three cred...</td>\n",
       "      <td>NaN</td>\n",
       "      <td>NaN</td>\n",
       "    </tr>\n",
       "    <tr>\n",
       "      <th>Company public response</th>\n",
       "      <td>NaN</td>\n",
       "      <td>NaN</td>\n",
       "      <td>Company has responded to the consumer and the ...</td>\n",
       "      <td>NaN</td>\n",
       "      <td>Company has responded to the consumer and the ...</td>\n",
       "      <td>Company believes it acted appropriately as aut...</td>\n",
       "      <td>Company has responded to the consumer and the ...</td>\n",
       "      <td>Company has responded to the consumer and the ...</td>\n",
       "      <td>Company has responded to the consumer and the ...</td>\n",
       "      <td>Company has responded to the consumer and the ...</td>\n",
       "    </tr>\n",
       "    <tr>\n",
       "      <th>Company</th>\n",
       "      <td>EQUIFAX, INC.</td>\n",
       "      <td>TRANSWORLD SYSTEMS INC</td>\n",
       "      <td>Experian Information Solutions Inc.</td>\n",
       "      <td>Diversified Consultants, Inc.</td>\n",
       "      <td>TRANSUNION INTERMEDIATE HOLDINGS, INC.</td>\n",
       "      <td>QuickClick Loans of Illinois, LLC</td>\n",
       "      <td>Experian Information Solutions Inc.</td>\n",
       "      <td>TRANSUNION INTERMEDIATE HOLDINGS, INC.</td>\n",
       "      <td>TRANSUNION INTERMEDIATE HOLDINGS, INC.</td>\n",
       "      <td>PENTAGON FEDERAL CREDIT UNION</td>\n",
       "    </tr>\n",
       "    <tr>\n",
       "      <th>State</th>\n",
       "      <td>GA</td>\n",
       "      <td>FL</td>\n",
       "      <td>PA</td>\n",
       "      <td>NC</td>\n",
       "      <td>OK</td>\n",
       "      <td>CA</td>\n",
       "      <td>CA</td>\n",
       "      <td>NY</td>\n",
       "      <td>CA</td>\n",
       "      <td>VA</td>\n",
       "    </tr>\n",
       "    <tr>\n",
       "      <th>ZIP code</th>\n",
       "      <td>310XX</td>\n",
       "      <td>335XX</td>\n",
       "      <td>15206</td>\n",
       "      <td>275XX</td>\n",
       "      <td>735XX</td>\n",
       "      <td>951XX</td>\n",
       "      <td>914XX</td>\n",
       "      <td>109XX</td>\n",
       "      <td>925XX</td>\n",
       "      <td>22304</td>\n",
       "    </tr>\n",
       "    <tr>\n",
       "      <th>Tags</th>\n",
       "      <td>NaN</td>\n",
       "      <td>NaN</td>\n",
       "      <td>NaN</td>\n",
       "      <td>NaN</td>\n",
       "      <td>NaN</td>\n",
       "      <td>NaN</td>\n",
       "      <td>NaN</td>\n",
       "      <td>NaN</td>\n",
       "      <td>NaN</td>\n",
       "      <td>NaN</td>\n",
       "    </tr>\n",
       "    <tr>\n",
       "      <th>Consumer consent provided?</th>\n",
       "      <td>Consent provided</td>\n",
       "      <td>Consent provided</td>\n",
       "      <td>Consent not provided</td>\n",
       "      <td>Consent provided</td>\n",
       "      <td>NaN</td>\n",
       "      <td>Consent provided</td>\n",
       "      <td>Consent provided</td>\n",
       "      <td>Consent provided</td>\n",
       "      <td>Other</td>\n",
       "      <td>NaN</td>\n",
       "    </tr>\n",
       "    <tr>\n",
       "      <th>Submitted via</th>\n",
       "      <td>Web</td>\n",
       "      <td>Web</td>\n",
       "      <td>Web</td>\n",
       "      <td>Web</td>\n",
       "      <td>Referral</td>\n",
       "      <td>Web</td>\n",
       "      <td>Web</td>\n",
       "      <td>Web</td>\n",
       "      <td>Web</td>\n",
       "      <td>Referral</td>\n",
       "    </tr>\n",
       "    <tr>\n",
       "      <th>Date sent to company</th>\n",
       "      <td>2019-05-28</td>\n",
       "      <td>2019-09-24</td>\n",
       "      <td>2019-09-20</td>\n",
       "      <td>2019-11-08</td>\n",
       "      <td>2019-05-03</td>\n",
       "      <td>2015-08-01</td>\n",
       "      <td>2019-07-26</td>\n",
       "      <td>2019-07-08</td>\n",
       "      <td>2019-10-24</td>\n",
       "      <td>2019-11-21</td>\n",
       "    </tr>\n",
       "    <tr>\n",
       "      <th>Company response to consumer</th>\n",
       "      <td>Closed with explanation</td>\n",
       "      <td>Closed with explanation</td>\n",
       "      <td>Closed with non-monetary relief</td>\n",
       "      <td>Closed with explanation</td>\n",
       "      <td>Closed with explanation</td>\n",
       "      <td>Closed with non-monetary relief</td>\n",
       "      <td>Closed with explanation</td>\n",
       "      <td>Closed with explanation</td>\n",
       "      <td>Closed with explanation</td>\n",
       "      <td>Closed with explanation</td>\n",
       "    </tr>\n",
       "    <tr>\n",
       "      <th>Timely response?</th>\n",
       "      <td>Yes</td>\n",
       "      <td>Yes</td>\n",
       "      <td>Yes</td>\n",
       "      <td>Yes</td>\n",
       "      <td>Yes</td>\n",
       "      <td>No</td>\n",
       "      <td>Yes</td>\n",
       "      <td>Yes</td>\n",
       "      <td>Yes</td>\n",
       "      <td>Yes</td>\n",
       "    </tr>\n",
       "    <tr>\n",
       "      <th>Consumer disputed?</th>\n",
       "      <td>NaN</td>\n",
       "      <td>NaN</td>\n",
       "      <td>NaN</td>\n",
       "      <td>NaN</td>\n",
       "      <td>NaN</td>\n",
       "      <td>No</td>\n",
       "      <td>NaN</td>\n",
       "      <td>NaN</td>\n",
       "      <td>NaN</td>\n",
       "      <td>NaN</td>\n",
       "    </tr>\n",
       "    <tr>\n",
       "      <th>Complaint ID</th>\n",
       "      <td>3255189</td>\n",
       "      <td>3384392</td>\n",
       "      <td>3379500</td>\n",
       "      <td>3433198</td>\n",
       "      <td>3231144</td>\n",
       "      <td>1498150</td>\n",
       "      <td>3319331</td>\n",
       "      <td>3299394</td>\n",
       "      <td>3416481</td>\n",
       "      <td>3446074</td>\n",
       "    </tr>\n",
       "  </tbody>\n",
       "</table>\n",
       "</div>"
      ],
      "text/plain": [
       "                                                                              0  \\\n",
       "Date received                                                        2019-05-28   \n",
       "Product                       Credit reporting, credit repair services, or o...   \n",
       "Sub-product                                                    Credit reporting   \n",
       "Issue                         Problem with a credit reporting company's inve...   \n",
       "Sub-issue                     Their investigation did not fix an error on yo...   \n",
       "Consumer complaint narrative  Although I am checking for and addressing miss...   \n",
       "Company public response                                                     NaN   \n",
       "Company                                                           EQUIFAX, INC.   \n",
       "State                                                                        GA   \n",
       "ZIP code                                                                  310XX   \n",
       "Tags                                                                        NaN   \n",
       "Consumer consent provided?                                     Consent provided   \n",
       "Submitted via                                                               Web   \n",
       "Date sent to company                                                 2019-05-28   \n",
       "Company response to consumer                            Closed with explanation   \n",
       "Timely response?                                                            Yes   \n",
       "Consumer disputed?                                                          NaN   \n",
       "Complaint ID                                                            3255189   \n",
       "\n",
       "                                                                              1  \\\n",
       "Date received                                                        2019-09-24   \n",
       "Product                                                         Debt collection   \n",
       "Sub-product                                                       I do not know   \n",
       "Issue                                         Attempts to collect debt not owed   \n",
       "Sub-issue                                                     Debt is not yours   \n",
       "Consumer complaint narrative  transworld systems inc. \\nis trying to collect...   \n",
       "Company public response                                                     NaN   \n",
       "Company                                                  TRANSWORLD SYSTEMS INC   \n",
       "State                                                                        FL   \n",
       "ZIP code                                                                  335XX   \n",
       "Tags                                                                        NaN   \n",
       "Consumer consent provided?                                     Consent provided   \n",
       "Submitted via                                                               Web   \n",
       "Date sent to company                                                 2019-09-24   \n",
       "Company response to consumer                            Closed with explanation   \n",
       "Timely response?                                                            Yes   \n",
       "Consumer disputed?                                                          NaN   \n",
       "Complaint ID                                                            3384392   \n",
       "\n",
       "                                                                              2  \\\n",
       "Date received                                                        2019-09-19   \n",
       "Product                       Credit reporting, credit repair services, or o...   \n",
       "Sub-product                                                    Credit reporting   \n",
       "Issue                                      Incorrect information on your report   \n",
       "Sub-issue                                   Information belongs to someone else   \n",
       "Consumer complaint narrative                                                NaN   \n",
       "Company public response       Company has responded to the consumer and the ...   \n",
       "Company                                     Experian Information Solutions Inc.   \n",
       "State                                                                        PA   \n",
       "ZIP code                                                                  15206   \n",
       "Tags                                                                        NaN   \n",
       "Consumer consent provided?                                 Consent not provided   \n",
       "Submitted via                                                               Web   \n",
       "Date sent to company                                                 2019-09-20   \n",
       "Company response to consumer                    Closed with non-monetary relief   \n",
       "Timely response?                                                            Yes   \n",
       "Consumer disputed?                                                          NaN   \n",
       "Complaint ID                                                            3379500   \n",
       "\n",
       "                                                                              3  \\\n",
       "Date received                                                        2019-11-08   \n",
       "Product                                                         Debt collection   \n",
       "Sub-product                                                       I do not know   \n",
       "Issue                                                     Communication tactics   \n",
       "Sub-issue                                            Frequent or repeated calls   \n",
       "Consumer complaint narrative  Over the past 2 weeks, I have been receiving e...   \n",
       "Company public response                                                     NaN   \n",
       "Company                                           Diversified Consultants, Inc.   \n",
       "State                                                                        NC   \n",
       "ZIP code                                                                  275XX   \n",
       "Tags                                                                        NaN   \n",
       "Consumer consent provided?                                     Consent provided   \n",
       "Submitted via                                                               Web   \n",
       "Date sent to company                                                 2019-11-08   \n",
       "Company response to consumer                            Closed with explanation   \n",
       "Timely response?                                                            Yes   \n",
       "Consumer disputed?                                                          NaN   \n",
       "Complaint ID                                                            3433198   \n",
       "\n",
       "                                                                              4  \\\n",
       "Date received                                                        2019-05-03   \n",
       "Product                       Credit reporting, credit repair services, or o...   \n",
       "Sub-product                                                    Credit reporting   \n",
       "Issue                                      Incorrect information on your report   \n",
       "Sub-issue                                         Account information incorrect   \n",
       "Consumer complaint narrative                                                NaN   \n",
       "Company public response       Company has responded to the consumer and the ...   \n",
       "Company                                  TRANSUNION INTERMEDIATE HOLDINGS, INC.   \n",
       "State                                                                        OK   \n",
       "ZIP code                                                                  735XX   \n",
       "Tags                                                                        NaN   \n",
       "Consumer consent provided?                                                  NaN   \n",
       "Submitted via                                                          Referral   \n",
       "Date sent to company                                                 2019-05-03   \n",
       "Company response to consumer                            Closed with explanation   \n",
       "Timely response?                                                            Yes   \n",
       "Consumer disputed?                                                          NaN   \n",
       "Complaint ID                                                            3231144   \n",
       "\n",
       "                                                                              5  \\\n",
       "Date received                                                        2015-08-01   \n",
       "Product                                                         Debt collection   \n",
       "Sub-product                                                         Payday loan   \n",
       "Issue                                      Taking/threatening an illegal action   \n",
       "Sub-issue                                  Sued w/o proper notification of suit   \n",
       "Consumer complaint narrative  Quickclickloans.com hired an attorney XXXX XXX...   \n",
       "Company public response       Company believes it acted appropriately as aut...   \n",
       "Company                                       QuickClick Loans of Illinois, LLC   \n",
       "State                                                                        CA   \n",
       "ZIP code                                                                  951XX   \n",
       "Tags                                                                        NaN   \n",
       "Consumer consent provided?                                     Consent provided   \n",
       "Submitted via                                                               Web   \n",
       "Date sent to company                                                 2015-08-01   \n",
       "Company response to consumer                    Closed with non-monetary relief   \n",
       "Timely response?                                                             No   \n",
       "Consumer disputed?                                                           No   \n",
       "Complaint ID                                                            1498150   \n",
       "\n",
       "                                                                              6  \\\n",
       "Date received                                                        2019-07-26   \n",
       "Product                       Credit reporting, credit repair services, or o...   \n",
       "Sub-product                                                    Credit reporting   \n",
       "Issue                         Problem with a credit reporting company's inve...   \n",
       "Sub-issue                     Their investigation did not fix an error on yo...   \n",
       "Consumer complaint narrative  Previously, on XX/XX/XXXX, XX/XX/XXXX, and XX/...   \n",
       "Company public response       Company has responded to the consumer and the ...   \n",
       "Company                                     Experian Information Solutions Inc.   \n",
       "State                                                                        CA   \n",
       "ZIP code                                                                  914XX   \n",
       "Tags                                                                        NaN   \n",
       "Consumer consent provided?                                     Consent provided   \n",
       "Submitted via                                                               Web   \n",
       "Date sent to company                                                 2019-07-26   \n",
       "Company response to consumer                            Closed with explanation   \n",
       "Timely response?                                                            Yes   \n",
       "Consumer disputed?                                                          NaN   \n",
       "Complaint ID                                                            3319331   \n",
       "\n",
       "                                                                              7  \\\n",
       "Date received                                                        2019-07-08   \n",
       "Product                       Credit reporting, credit repair services, or o...   \n",
       "Sub-product                                                    Credit reporting   \n",
       "Issue                         Problem with a credit reporting company's inve...   \n",
       "Sub-issue                     Their investigation did not fix an error on yo...   \n",
       "Consumer complaint narrative  Hello This complaint is against the three cred...   \n",
       "Company public response       Company has responded to the consumer and the ...   \n",
       "Company                                  TRANSUNION INTERMEDIATE HOLDINGS, INC.   \n",
       "State                                                                        NY   \n",
       "ZIP code                                                                  109XX   \n",
       "Tags                                                                        NaN   \n",
       "Consumer consent provided?                                     Consent provided   \n",
       "Submitted via                                                               Web   \n",
       "Date sent to company                                                 2019-07-08   \n",
       "Company response to consumer                            Closed with explanation   \n",
       "Timely response?                                                            Yes   \n",
       "Consumer disputed?                                                          NaN   \n",
       "Complaint ID                                                            3299394   \n",
       "\n",
       "                                                                              8  \\\n",
       "Date received                                                        2019-10-24   \n",
       "Product                       Credit reporting, credit repair services, or o...   \n",
       "Sub-product                                                    Credit reporting   \n",
       "Issue                                      Incorrect information on your report   \n",
       "Sub-issue                                   Information belongs to someone else   \n",
       "Consumer complaint narrative                                                NaN   \n",
       "Company public response       Company has responded to the consumer and the ...   \n",
       "Company                                  TRANSUNION INTERMEDIATE HOLDINGS, INC.   \n",
       "State                                                                        CA   \n",
       "ZIP code                                                                  925XX   \n",
       "Tags                                                                        NaN   \n",
       "Consumer consent provided?                                                Other   \n",
       "Submitted via                                                               Web   \n",
       "Date sent to company                                                 2019-10-24   \n",
       "Company response to consumer                            Closed with explanation   \n",
       "Timely response?                                                            Yes   \n",
       "Consumer disputed?                                                          NaN   \n",
       "Complaint ID                                                            3416481   \n",
       "\n",
       "                                                                              9  \n",
       "Date received                                                        2019-11-20  \n",
       "Product                                             Credit card or prepaid card  \n",
       "Sub-product                          General-purpose credit card or charge card  \n",
       "Issue                                                      Closing your account  \n",
       "Sub-issue                                           Company closed your account  \n",
       "Consumer complaint narrative                                                NaN  \n",
       "Company public response       Company has responded to the consumer and the ...  \n",
       "Company                                           PENTAGON FEDERAL CREDIT UNION  \n",
       "State                                                                        VA  \n",
       "ZIP code                                                                  22304  \n",
       "Tags                                                                        NaN  \n",
       "Consumer consent provided?                                                  NaN  \n",
       "Submitted via                                                          Referral  \n",
       "Date sent to company                                                 2019-11-21  \n",
       "Company response to consumer                            Closed with explanation  \n",
       "Timely response?                                                            Yes  \n",
       "Consumer disputed?                                                          NaN  \n",
       "Complaint ID                                                            3446074  "
      ]
     },
     "execution_count": 4,
     "metadata": {},
     "output_type": "execute_result"
    }
   ],
   "source": [
    "df.head(10).T"
   ]
  },
  {
   "cell_type": "code",
   "execution_count": 5,
   "metadata": {},
   "outputs": [
    {
     "data": {
      "text/plain": [
       "Date received                   object\n",
       "Product                         object\n",
       "Sub-product                     object\n",
       "Issue                           object\n",
       "Sub-issue                       object\n",
       "Consumer complaint narrative    object\n",
       "Company public response         object\n",
       "Company                         object\n",
       "State                           object\n",
       "ZIP code                        object\n",
       "Tags                            object\n",
       "Consumer consent provided?      object\n",
       "Submitted via                   object\n",
       "Date sent to company            object\n",
       "Company response to consumer    object\n",
       "Timely response?                object\n",
       "Consumer disputed?              object\n",
       "Complaint ID                     int64\n",
       "dtype: object"
      ]
     },
     "execution_count": 5,
     "metadata": {},
     "output_type": "execute_result"
    }
   ],
   "source": [
    "df.dtypes\n"
   ]
  },
  {
   "cell_type": "code",
   "execution_count": 6,
   "metadata": {},
   "outputs": [
    {
     "data": {
      "text/plain": [
       "array([['Credit reporting, credit repair services, or other personal consumer reports'],\n",
       "       ['Debt collection'],\n",
       "       ['Credit card or prepaid card'],\n",
       "       ['Payday loan, title loan, or personal loan'],\n",
       "       ['Money transfer, virtual currency, or money service'],\n",
       "       ['Vehicle loan or lease'],\n",
       "       ['Student loan'],\n",
       "       ['Mortgage'],\n",
       "       ['Checking or savings account'],\n",
       "       ['Credit card'],\n",
       "       ['Consumer Loan'],\n",
       "       ['Credit reporting'],\n",
       "       ['Bank account or service'],\n",
       "       ['Payday loan'],\n",
       "       ['Other financial service'],\n",
       "       ['Prepaid card'],\n",
       "       ['Money transfers'],\n",
       "       ['Virtual currency']], dtype=object)"
      ]
     },
     "execution_count": 6,
     "metadata": {},
     "output_type": "execute_result"
    }
   ],
   "source": [
    "pd.DataFrame(df.Product.unique()).values"
   ]
  },
  {
   "cell_type": "code",
   "execution_count": 7,
   "metadata": {},
   "outputs": [
    {
     "data": {
      "text/plain": [
       "array(['Non-federal student loan', 'Private student loan',\n",
       "       'Federal student loan servicing'], dtype=object)"
      ]
     },
     "execution_count": 7,
     "metadata": {},
     "output_type": "execute_result"
    }
   ],
   "source": [
    "df2=df.groupby('Product').apply(lambda x: x['Sub-product'].unique())\n",
    "df2.shape\n",
    "df2['Student loan']"
   ]
  },
  {
   "cell_type": "code",
   "execution_count": 8,
   "metadata": {},
   "outputs": [
    {
     "data": {
      "text/plain": [
       "array([['Web'],\n",
       "       ['Referral'],\n",
       "       ['Fax'],\n",
       "       ['Postal mail'],\n",
       "       ['Phone'],\n",
       "       ['Email']], dtype=object)"
      ]
     },
     "execution_count": 8,
     "metadata": {},
     "output_type": "execute_result"
    }
   ],
   "source": [
    "pd.DataFrame(df['Submitted via'].unique()).values"
   ]
  },
  {
   "cell_type": "code",
   "execution_count": 9,
   "metadata": {},
   "outputs": [
    {
     "data": {
      "text/plain": [
       "array([['Closed with explanation'],\n",
       "       ['Closed with non-monetary relief'],\n",
       "       ['Untimely response'],\n",
       "       ['Closed with monetary relief'],\n",
       "       ['Closed'],\n",
       "       ['Closed with relief'],\n",
       "       ['In progress'],\n",
       "       ['Closed without relief'],\n",
       "       [nan]], dtype=object)"
      ]
     },
     "execution_count": 9,
     "metadata": {},
     "output_type": "execute_result"
    }
   ],
   "source": [
    "pd.DataFrame(df['Company response to consumer'].unique()).values"
   ]
  },
  {
   "cell_type": "code",
   "execution_count": 10,
   "metadata": {},
   "outputs": [
    {
     "data": {
      "text/plain": [
       "array([['Yes'],\n",
       "       ['No']], dtype=object)"
      ]
     },
     "execution_count": 10,
     "metadata": {},
     "output_type": "execute_result"
    }
   ],
   "source": [
    "pd.DataFrame(df['Timely response?'].unique()).values"
   ]
  },
  {
   "cell_type": "code",
   "execution_count": 11,
   "metadata": {},
   "outputs": [
    {
     "data": {
      "text/plain": [
       "array([[nan],\n",
       "       ['No'],\n",
       "       ['Yes']], dtype=object)"
      ]
     },
     "execution_count": 11,
     "metadata": {},
     "output_type": "execute_result"
    }
   ],
   "source": [
    "pd.DataFrame(df['Consumer disputed?'].unique()).values"
   ]
  },
  {
   "cell_type": "code",
   "execution_count": 12,
   "metadata": {},
   "outputs": [
    {
     "data": {
      "text/plain": [
       "array([[nan],\n",
       "       ['Servicemember'],\n",
       "       ['Older American'],\n",
       "       ['Older American, Servicemember']], dtype=object)"
      ]
     },
     "execution_count": 12,
     "metadata": {},
     "output_type": "execute_result"
    }
   ],
   "source": [
    "pd.DataFrame(df['Tags'].unique()).values"
   ]
  },
  {
   "cell_type": "markdown",
   "metadata": {},
   "source": [
    "Gererate New dataset contaning Product and Consumer complaint narrative"
   ]
  },
  {
   "cell_type": "code",
   "execution_count": 13,
   "metadata": {},
   "outputs": [
    {
     "data": {
      "text/plain": [
       "(596333, 2)"
      ]
     },
     "execution_count": 13,
     "metadata": {},
     "output_type": "execute_result"
    }
   ],
   "source": [
    "dfNew = df[['Product', 'Consumer complaint narrative']].copy()\n",
    "\n",
    "# Remove missing values (NaN)\n",
    "dfNew = dfNew[pd.notnull(dfNew['Consumer complaint narrative'])]\n",
    "\n",
    "# Renaming second column for a simpler name\n",
    "dfNew.columns = ['Product', 'Consumer_complaint'] \n",
    "\n",
    "dfNew.shape"
   ]
  },
  {
   "cell_type": "code",
   "execution_count": 14,
   "metadata": {},
   "outputs": [],
   "source": [
    "dfNew.replace({'Product': \n",
    "             {'Credit reporting, credit repair services, or other personal consumer reports': \n",
    "              'Credit reporting, repair, or other reports', \n",
    "              'Credit reporting': 'Credit reporting, repair, or other reports',\n",
    "              'Credit card': 'Credit card or prepaid card',\n",
    "              'Prepaid card': 'Credit card or prepaid card',\n",
    "              'Payday loan': 'Payday loan, title loan, or personal loan',\n",
    "              'Money transfers': 'Money transfer, virtual currency, or money service',\n",
    "              'Virtual currency': 'Money transfer, virtual currency, or money service'}}, \n",
    "            inplace= True)"
   ]
  },
  {
   "cell_type": "code",
   "execution_count": 15,
   "metadata": {},
   "outputs": [
    {
     "data": {
      "text/plain": [
       "array([['Credit reporting, repair, or other reports'],\n",
       "       ['Debt collection'],\n",
       "       ['Payday loan, title loan, or personal loan'],\n",
       "       ['Money transfer, virtual currency, or money service'],\n",
       "       ['Student loan'],\n",
       "       ['Mortgage'],\n",
       "       ['Checking or savings account'],\n",
       "       ['Vehicle loan or lease'],\n",
       "       ['Credit card or prepaid card'],\n",
       "       ['Consumer Loan'],\n",
       "       ['Bank account or service'],\n",
       "       ['Other financial service']], dtype=object)"
      ]
     },
     "execution_count": 15,
     "metadata": {},
     "output_type": "execute_result"
    }
   ],
   "source": [
    "pd.DataFrame(dfNew.Product.unique()).values"
   ]
  },
  {
   "cell_type": "markdown",
   "metadata": {},
   "source": [
    "Distribuation of Product Attribute"
   ]
  },
  {
   "cell_type": "code",
   "execution_count": 16,
   "metadata": {},
   "outputs": [
    {
     "data": {
      "image/png": "[encoded data removed]",
      "text/plain": [
       "<Figure size 432x288 with 1 Axes>"
      ]
     },
     "metadata": {
      "needs_background": "light"
     },
     "output_type": "display_data"
    }
   ],
   "source": [
    "from matplotlib.legend_handler import HandlerBase\n",
    "from matplotlib.text import Text\n",
    "\n",
    "class TextHandler(HandlerBase):\n",
    "    def create_artists(self, legend, tup ,xdescent, ydescent,\n",
    "                        width, height, fontsize,trans):\n",
    "        tx = Text(width/2.,height/2,tup[0], fontsize=fontsize,\n",
    "                  ha=\"center\", va=\"center\", color=tup[1], fontweight=\"bold\")\n",
    "        return [tx]\n",
    "\n",
    "\n",
    "dfNew1=dfNew.replace({'Product': \n",
    "             {\n",
    "              'Credit reporting, repair, or other reports':'CR',\n",
    "              'Debt collection':'DC',\n",
    "              'Payday loan, title loan, or personal loan':'PL',\n",
    "              'Money transfer, virtual currency, or money service':'MT', \n",
    "              'Student loan':'SL', \n",
    "              'Mortgage': 'M',\n",
    "              'Checking or savings account':'CS', \n",
    "              'Vehicle loan or lease':'VL',\n",
    "              'Credit card or prepaid card':'CP',\n",
    "              'Consumer Loan':'CL',\n",
    "              'Bank account or service':'BA',\n",
    "              'Other financial service':'OF'}},inplace= False)\n",
    "\n",
    "\n",
    "fig, ax1 = plt.subplots()\n",
    "        \n",
    "sns.countplot(x = dfNew1.Product, ax=ax1)\n",
    "handltext = [\"CR\", \"DC\", \"PL\", \"MT\", \"SL\", \"M\", \"CS\", \"VL\", \"CP\", \"CL\", \"BA\",\"OF\"]\n",
    "labels = [\"Credit reporting, repair, or other reports\", \n",
    "          \"Debt collection\", \n",
    "          \"Payday loan, title loan, or personal loan\",\n",
    "          \"Money transfer, virtual currency, or money service\", \n",
    "          \"Student loan\", \n",
    "          \"Mortgage\",\n",
    "          \"Checking or savings account\", \n",
    "          \"Vehicle loan or lease\",\n",
    "          \"Credit card or prepaid card\",\n",
    "          \"Consumer Loan\",\n",
    "          \"Bank account or service\",\n",
    "          \"Other financial service\"]\n",
    "         \n",
    "\n",
    "t = ax1.get_xticklabels()\n",
    "labeldic = dict(zip(handltext, labels))\n",
    "labels = [labeldic[h.get_text()]  for h in t]\n",
    "handles = [(h.get_text(),c.get_fc()) for h,c in zip(t,ax1.patches)]\n",
    "\n",
    "ax1.legend(handles, labels, handler_map={tuple : TextHandler()}) \n",
    "\n",
    "plt.show()\n",
    "fig.savefig('sample1.png',bbox_inches='tight')\n"
   ]
  },
  {
   "cell_type": "code",
   "execution_count": 17,
   "metadata": {},
   "outputs": [],
   "source": [
    "# making new dataframe for more analyzing\n",
    "dfNewAn=df.replace({'Product': \n",
    "             {'Credit reporting, credit repair services, or other personal consumer reports': \n",
    "              'Credit reporting, repair, or other reports', \n",
    "              'Credit reporting': 'Credit reporting, repair, or other reports',\n",
    "              'Credit card': 'Credit card or prepaid card',\n",
    "              'Prepaid card': 'Credit card or prepaid card',\n",
    "              'Payday loan': 'Payday loan, title loan, or personal loan',\n",
    "              'Money transfers': 'Money transfer, virtual currency, or money service',\n",
    "              'Virtual currency': 'Money transfer, virtual currency, or money service'}}, \n",
    "            inplace= False)"
   ]
  },
  {
   "cell_type": "markdown",
   "metadata": {},
   "source": [
    "Crosstab of Product and Consumer disputed attributes"
   ]
  },
  {
   "cell_type": "code",
   "execution_count": 18,
   "metadata": {},
   "outputs": [
    {
     "data": {
      "image/png": "[encoded data removed]",
      "text/plain": [
       "<Figure size 432x288 with 1 Axes>"
      ]
     },
     "metadata": {
      "needs_background": "light"
     },
     "output_type": "display_data"
    }
   ],
   "source": [
    "pd.crosstab(dfNewAn['Product'],dfNewAn['Consumer disputed?']).plot(kind='bar')\n",
    "plt.savefig('crosstab.png')"
   ]
  },
  {
   "cell_type": "markdown",
   "metadata": {},
   "source": [
    "Timley Response Distribution"
   ]
  },
  {
   "cell_type": "code",
   "execution_count": 19,
   "metadata": {},
   "outputs": [
    {
     "data": {
      "image/png": "[encoded data removed]",
      "text/plain": [
       "<Figure size 432x288 with 1 Axes>"
      ]
     },
     "metadata": {
      "needs_background": "light"
     },
     "output_type": "display_data"
    }
   ],
   "source": [
    "sns.countplot(x='Timely response?',data=dfNewAn)\n",
    "plt.savefig('sample3.png')"
   ]
  }
 ],
 "metadata": {
  "kernelspec": {
   "display_name": "Python 3",
   "language": "python",
   "name": "python3"
  },
  "language_info": {
   "codemirror_mode": {
    "name": "ipython",
    "version": 3
   },
   "file_extension": ".py",
   "mimetype": "text/x-python",
   "name": "python",
   "nbconvert_exporter": "python",
   "pygments_lexer": "ipython3",
   "version": "3.7.6"
  }
 },
 "nbformat": 4,
 "nbformat_minor": 4
}
